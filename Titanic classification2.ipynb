{
  "nbformat": 4,
  "nbformat_minor": 0,
  "metadata": {
    "colab": {
      "name": "Untitled3.ipynb",
      "provenance": [],
      "private_outputs": true,
      "authorship_tag": "ABX9TyNKGX+n2lvWjZAQSF0xPND0",
      "include_colab_link": true
    },
    "kernelspec": {
      "name": "python3",
      "display_name": "Python 3"
    },
    "accelerator": "TPU"
  },
  "cells": [
    {
      "cell_type": "markdown",
      "metadata": {
        "id": "view-in-github",
        "colab_type": "text"
      },
      "source": [
        "<a href=\"https://colab.research.google.com/github/kouwis/Titanic-classification/blob/master/Titanic%20classification2.ipynb\" target=\"_parent\"><img src=\"https://colab.research.google.com/assets/colab-badge.svg\" alt=\"Open In Colab\"/></a>"
      ]
    },
    {
      "cell_type": "code",
      "metadata": {
        "id": "a5yasxSYO7iy",
        "colab_type": "code",
        "colab": {}
      },
      "source": [
        "import pandas as pd\n",
        "import numpy as np\n",
        "from matplotlib import pyplot as plt\n",
        "from sklearn.model_selection import train_test_split\n",
        "from sklearn import metrics\n",
        "from sklearn.preprocessing import StandardScaler\n",
        "import seaborn as sb\n",
        "import io\n",
        "import autosklearn.classification\n",
        "from google.colab import files\n",
        "uploaded = files.upload()\n",
        "import warnings\n",
        "warnings.filterwarnings('ignore')\n",
        "%matplotlib inline"
      ],
      "execution_count": 0,
      "outputs": []
    },
    {
      "cell_type": "code",
      "metadata": {
        "id": "4g74lJWePs8v",
        "colab_type": "code",
        "colab": {}
      },
      "source": [
        "data = pd.read_csv(io.BytesIO(uploaded['train.csv']))"
      ],
      "execution_count": 0,
      "outputs": []
    },
    {
      "cell_type": "code",
      "metadata": {
        "id": "BETj1CQvbAu-",
        "colab_type": "code",
        "colab": {}
      },
      "source": [
        "data.head()"
      ],
      "execution_count": 0,
      "outputs": []
    },
    {
      "cell_type": "code",
      "metadata": {
        "id": "UUJXJOnabGQ4",
        "colab_type": "code",
        "colab": {}
      },
      "source": [
        "data.tail()"
      ],
      "execution_count": 0,
      "outputs": []
    },
    {
      "cell_type": "code",
      "metadata": {
        "id": "c2atnOM3bH_n",
        "colab_type": "code",
        "colab": {}
      },
      "source": [
        "data.info()"
      ],
      "execution_count": 0,
      "outputs": []
    },
    {
      "cell_type": "code",
      "metadata": {
        "id": "oc1Qdtw7P1wZ",
        "colab_type": "code",
        "colab": {}
      },
      "source": [
        "data.isnull().sum()"
      ],
      "execution_count": 0,
      "outputs": []
    },
    {
      "cell_type": "code",
      "metadata": {
        "id": "Zmf1VCAyVFqr",
        "colab_type": "code",
        "colab": {}
      },
      "source": [
        "data.drop(labels=[\"Cabin\",\"PassengerId\",\"Ticket\"],axis=1,inplace=True)"
      ],
      "execution_count": 0,
      "outputs": []
    },
    {
      "cell_type": "code",
      "metadata": {
        "id": "kkMJzVqxbRfr",
        "colab_type": "code",
        "colab": {}
      },
      "source": [
        "data.head()"
      ],
      "execution_count": 0,
      "outputs": []
    },
    {
      "cell_type": "code",
      "metadata": {
        "id": "iCnYQzJZVHzg",
        "colab_type": "code",
        "colab": {}
      },
      "source": [
        "data[\"Age\"] = data.Age.fillna(data[\"Age\"].mean())\n",
        "data[\"Embarked\"] = data.Embarked.fillna(\"S\")"
      ],
      "execution_count": 0,
      "outputs": []
    },
    {
      "cell_type": "code",
      "metadata": {
        "id": "OaEPbFG2VKr_",
        "colab_type": "code",
        "colab": {}
      },
      "source": [
        "data.isnull().sum()"
      ],
      "execution_count": 0,
      "outputs": []
    },
    {
      "cell_type": "code",
      "metadata": {
        "id": "dyWcujWTVMep",
        "colab_type": "code",
        "colab": {}
      },
      "source": [
        "data[\"Sex\"] = data[\"Sex\"].map({\"male\":0,\"female\":1})\n",
        "data[\"Embarked\"] = data[\"Embarked\"].map({\"S\":0,\"C\":1,\"Q\":2})"
      ],
      "execution_count": 0,
      "outputs": []
    },
    {
      "cell_type": "code",
      "metadata": {
        "id": "1dllU7s-bgJe",
        "colab_type": "code",
        "colab": {}
      },
      "source": [
        "data.head()"
      ],
      "execution_count": 0,
      "outputs": []
    },
    {
      "cell_type": "code",
      "metadata": {
        "id": "EAqBskYoVOsf",
        "colab_type": "code",
        "colab": {}
      },
      "source": [
        "data[\"Title\"] = data.Name.str.extract(\"([A-Za-z]+)\\.\",expand = False)"
      ],
      "execution_count": 0,
      "outputs": []
    },
    {
      "cell_type": "code",
      "metadata": {
        "id": "vy3IrqL7VQ8O",
        "colab_type": "code",
        "colab": {}
      },
      "source": [
        "data['Title'] = data['Title'].replace(['Lady', 'Countess','Capt', 'Col','Don', 'Dr', 'Major', 'Rev', 'Sir', 'Jonkheer', 'Dona'], 'Rare')\n",
        "data['Title'] = data['Title'].replace('Mlle', 'Miss')\n",
        "data['Title'] = data['Title'].replace('Ms', 'Miss')\n",
        "data['Title'] = data['Title'].replace('Mme', 'Mrs')"
      ],
      "execution_count": 0,
      "outputs": []
    },
    {
      "cell_type": "code",
      "metadata": {
        "id": "cM7243wwVSkz",
        "colab_type": "code",
        "colab": {}
      },
      "source": [
        "plt.subplots()\n",
        "plt.show(sb.countplot(x='Sex',data=data, hue='Survived'))\n",
        "plt.show(sb.countplot(x='Embarked',data=data, hue='Survived'))\n",
        "plt.show(sb.countplot(x='Pclass',data=data, hue='Survived'))\n",
        "plt.show(sb.countplot(x='Title',data=data, hue='Survived'))\n",
        "plt.show(sb.countplot(x='Parch',data=data, hue='Survived'))\n",
        "plt.show(sb.countplot(x='SibSp',data=data, hue='Survived'))\n",
        "plt.show(sb.distplot(data['Age'],bins=30))"
      ],
      "execution_count": 0,
      "outputs": []
    },
    {
      "cell_type": "code",
      "metadata": {
        "id": "EDTPUVFTVU7r",
        "colab_type": "code",
        "colab": {}
      },
      "source": [
        "data.drop([\"Name\",\"Title\"],axis=1,inplace=True)"
      ],
      "execution_count": 0,
      "outputs": []
    },
    {
      "cell_type": "code",
      "metadata": {
        "id": "Q9VXR1X4VYzO",
        "colab_type": "code",
        "colab": {}
      },
      "source": [
        "ages = np.array(data[\"Age\"]).reshape(-1,1)\n",
        "fare = np.array(data[\"Fare\"]).reshape(-1,1)\n",
        "SC = StandardScaler()"
      ],
      "execution_count": 0,
      "outputs": []
    },
    {
      "cell_type": "code",
      "metadata": {
        "id": "WGYPVMm4Vaf3",
        "colab_type": "code",
        "colab": {}
      },
      "source": [
        "data[\"Age\"] = SC.fit_transform(ages)\n",
        "data[\"Fare\"] = SC.fit_transform(fare)"
      ],
      "execution_count": 0,
      "outputs": []
    },
    {
      "cell_type": "code",
      "metadata": {
        "id": "QoU_PcSTbzY6",
        "colab_type": "code",
        "colab": {}
      },
      "source": [
        "data.head()"
      ],
      "execution_count": 0,
      "outputs": []
    },
    {
      "cell_type": "code",
      "metadata": {
        "id": "OmdmzjzzVcQ2",
        "colab_type": "code",
        "colab": {}
      },
      "source": [
        "features = data.iloc[:,1:].values\n",
        "target = data[\"Survived\"]"
      ],
      "execution_count": 0,
      "outputs": []
    },
    {
      "cell_type": "code",
      "metadata": {
        "id": "k10nG-7pVeYo",
        "colab_type": "code",
        "colab": {}
      },
      "source": [
        "X_train, X_test, Y_train, Y_test = train_test_split(features, target, train_size = 0.8, random_state = 5)"
      ],
      "execution_count": 0,
      "outputs": []
    },
    {
      "cell_type": "code",
      "metadata": {
        "id": "c8SM5aU8Vh6T",
        "colab_type": "code",
        "colab": {}
      },
      "source": [
        "automl = autosklearn.classification.AutoSklearnClassifier(\n",
        "          time_left_for_this_task=120,\n",
        "          per_run_time_limit=30,\n",
        "          )"
      ],
      "execution_count": 0,
      "outputs": []
    },
    {
      "cell_type": "code",
      "metadata": {
        "id": "B_PCstKXVwKt",
        "colab_type": "code",
        "colab": {}
      },
      "source": [
        "automl.fit(X_train, Y_train)"
      ],
      "execution_count": 0,
      "outputs": []
    },
    {
      "cell_type": "code",
      "metadata": {
        "id": "R_8ep2R3V0uc",
        "colab_type": "code",
        "colab": {}
      },
      "source": [
        "Y_pred = automl.predict(X_test)"
      ],
      "execution_count": 0,
      "outputs": []
    },
    {
      "cell_type": "code",
      "metadata": {
        "id": "wPvfQcnaWT4p",
        "colab_type": "code",
        "colab": {}
      },
      "source": [
        "test_acc = metrics.accuracy_score(Y_test, Y_pred)"
      ],
      "execution_count": 0,
      "outputs": []
    },
    {
      "cell_type": "code",
      "metadata": {
        "id": "ZoVBlX_6Wg6L",
        "colab_type": "code",
        "colab": {}
      },
      "source": [
        "print(\"Test Accuracy score {0}\".format(test_acc*100))"
      ],
      "execution_count": 0,
      "outputs": []
    },
    {
      "cell_type": "code",
      "metadata": {
        "id": "6HWTnLgbWjWK",
        "colab_type": "code",
        "colab": {}
      },
      "source": [
        "print(automl.sprint_statistics())"
      ],
      "execution_count": 0,
      "outputs": []
    },
    {
      "cell_type": "code",
      "metadata": {
        "id": "M7wOCgTLWmrK",
        "colab_type": "code",
        "colab": {}
      },
      "source": [
        "print(automl.show_models())"
      ],
      "execution_count": 0,
      "outputs": []
    }
  ]
}